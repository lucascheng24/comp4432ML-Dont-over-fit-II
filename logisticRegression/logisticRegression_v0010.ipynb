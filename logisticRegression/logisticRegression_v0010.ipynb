{
 "cells": [
  {
   "attachments": {},
   "cell_type": "markdown",
   "metadata": {},
   "source": [
    "<h1>logistic regression without applying polynomin</h1>\n",
    "\n",
    "do regularization with modal 'liblinear'\n",
    "\n",
    "# <h4>score: private 0.745 - public 0.753</h4>"
   ]
  },
  {
   "cell_type": "code",
   "execution_count": 4,
   "metadata": {},
   "outputs": [
    {
     "name": "stdout",
     "output_type": "stream",
     "text": [
      "ipykernel_launcher.py\n"
     ]
    }
   ],
   "source": [
    "import os\n",
    "from sys import argv\n",
    "\n",
    "\n",
    "\n",
    "# print(argv[0])\n",
    "\n",
    "print(os.path.basename(argv[0]))\n",
    "\n",
    "\n"
   ]
  },
  {
   "cell_type": "code",
   "execution_count": 5,
   "metadata": {},
   "outputs": [
    {
     "ename": "NameError",
     "evalue": "name 'nb_name' is not defined",
     "output_type": "error",
     "traceback": [
      "\u001b[1;31m---------------------------------------------------------------------------\u001b[0m",
      "\u001b[1;31mNameError\u001b[0m                                 Traceback (most recent call last)",
      "Cell \u001b[1;32mIn[5], line 2\u001b[0m\n\u001b[0;32m      1\u001b[0m \u001b[39mimport\u001b[39;00m \u001b[39mos\u001b[39;00m\n\u001b[1;32m----> 2\u001b[0m nb_full_path \u001b[39m=\u001b[39m os\u001b[39m.\u001b[39mpath\u001b[39m.\u001b[39mjoin(os\u001b[39m.\u001b[39mgetcwd(), nb_name)\n\u001b[0;32m      4\u001b[0m nb_full_path\n",
      "\u001b[1;31mNameError\u001b[0m: name 'nb_name' is not defined"
     ]
    }
   ],
   "source": [
    "import os\n",
    "nb_full_path = os.path.join(os.getcwd(), nb_name)\n",
    "\n",
    "nb_full_path"
   ]
  },
  {
   "cell_type": "code",
   "execution_count": 15,
   "metadata": {},
   "outputs": [],
   "source": [
    "import csv\n",
    "import numpy as np\n",
    "import pandas as pd\n",
    "from sklearn.metrics import f1_score\n",
    "from matplotlib import pyplot as plt\n",
    "from sklearn.decomposition import PCA\n",
    "from sklearn.preprocessing import RobustScaler\n",
    "from sklearn.model_selection import GridSearchCV\n",
    "from sklearn.linear_model import LogisticRegression\n",
    "\n",
    "\n",
    "\n",
    "train_url = 'https://raw.githubusercontent.com/lucascheng24/comp4432ML-Dont-over-fit-II/main/train.csv'\n",
    "test_url = 'https://raw.githubusercontent.com/lucascheng24/comp4432ML-Dont-over-fit-II/main/test.csv'\n",
    "\n"
   ]
  },
  {
   "cell_type": "code",
   "execution_count": 16,
   "metadata": {},
   "outputs": [],
   "source": [
    "train = pd.read_csv(train_url)\n",
    "test = pd.read_csv(test_url)\n",
    "\n",
    "train_y = train['target']\n",
    "train = train.drop(columns=['id', 'target'])\n",
    "\n",
    "test = test.drop(columns=['id'])\n",
    "\n",
    "\n",
    "robust_scaler = RobustScaler().fit(train.values)\n",
    "trans_x = robust_scaler.transform(train.values)\n",
    "trans_test = robust_scaler.transform(test.values)"
   ]
  },
  {
   "cell_type": "code",
   "execution_count": 18,
   "metadata": {},
   "outputs": [
    {
     "name": "stdout",
     "output_type": "stream",
     "text": [
      "0.748\n"
     ]
    },
    {
     "data": {
      "image/png": "[encoded data removed]",
      "text/plain": [
       "<Figure size 640x480 with 1 Axes>"
      ]
     },
     "metadata": {},
     "output_type": "display_data"
    }
   ],
   "source": [
    "\n",
    "scores = []\n",
    "# param_grid = {\"C\": [.01, .1, 1, 10, 100, 1000],\n",
    "param_grid = {\"C\": [.01, .1, 1],\n",
    "                \"penalty\": ('l1','l2')}\n",
    "clf = LogisticRegression(random_state=0, solver='liblinear', class_weight='balanced', max_iter = 1000, penalty='l1')\n",
    "gs = GridSearchCV(clf, param_grid, cv=5)\n",
    "gs.fit(trans_x, train_y)\n",
    "\n",
    "best_score = gs.best_score_\n",
    "best_estimator = gs.best_estimator_\n",
    "best_pca = 'N/a'\n",
    "print(best_score)\n",
    "\n",
    "pca = PCA(n_components=2)\n",
    "pca.fit(train.values)\n",
    "vals_2d = pca.transform(train.values)\n",
    "\n",
    "colors = ['red' if t == 1 else 'blue' for t in train_y]\n",
    "for i in range(len(vals_2d)):\n",
    "    plt.scatter(x=vals_2d[i,0], y=vals_2d[i,1], color=colors[i])"
   ]
  },
  {
   "attachments": {},
   "cell_type": "markdown",
   "metadata": {},
   "source": [
    "<h3>Real prediction on testing data</h3>"
   ]
  },
  {
   "cell_type": "code",
   "execution_count": 19,
   "metadata": {},
   "outputs": [
    {
     "name": "stdout",
     "output_type": "stream",
     "text": [
      "LogisticRegression(C=0.1, class_weight='balanced', max_iter=1000, penalty='l1',\n",
      "                   random_state=0, solver='saga')\n",
      "0.748\n",
      "0.856\n"
     ]
    }
   ],
   "source": [
    "param_grid = {\"C\": [.01, .1],\n",
    "                \"penalty\": ('l1','l2')}\n",
    "clf = LogisticRegression(random_state=0, solver='liblinear', class_weight='balanced', max_iter = 1000, penalty='l1')\n",
    "gs = GridSearchCV(clf, param_grid, cv=5)\n",
    "gs.fit(trans_x, train_y)\n",
    "print(gs.best_estimator_)\n",
    "print(gs.best_score_)\n",
    "print(gs.score(trans_x, train_y))\n",
    "predictions = gs.predict_proba(trans_test)[:,1]"
   ]
  },
  {
   "cell_type": "code",
   "execution_count": 20,
   "metadata": {},
   "outputs": [],
   "source": [
    "pred_result_list = [int(round(x)) for x in predictions]"
   ]
  },
  {
   "cell_type": "code",
   "execution_count": 21,
   "metadata": {},
   "outputs": [],
   "source": [
    "\n",
    "with open('../result_folder/logistic_V12_liblinear.csv', 'w', newline='') as file:\n",
    "    writer = csv.writer(file)\n",
    "    writer.writerow([\"id\", \"target\"])\n",
    "    for i in range(250, 20000):\n",
    "        writer.writerow([i, pred_result_list[i-250]])\n",
    "    file.close()\n"
   ]
  }
 ],
 "metadata": {
  "kernelspec": {
   "display_name": "Python 3",
   "language": "python",
   "name": "python3"
  },
  "language_info": {
   "codemirror_mode": {
    "name": "ipython",
    "version": 3
   },
   "file_extension": ".py",
   "mimetype": "text/x-python",
   "name": "python",
   "nbconvert_exporter": "python",
   "pygments_lexer": "ipython3",
   "version": "3.9.5"
  },
  "orig_nbformat": 4,
  "vscode": {
   "interpreter": {
    "hash": "81794d4967e6c3204c66dcd87b604927b115b27c00565d3d43f05ba2f3a2cb0d"
   }
  }
 },
 "nbformat": 4,
 "nbformat_minor": 2
}
