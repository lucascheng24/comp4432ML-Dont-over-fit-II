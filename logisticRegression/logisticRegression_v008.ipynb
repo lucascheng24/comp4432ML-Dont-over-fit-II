{
 "cells": [
  {
   "attachments": {},
   "cell_type": "markdown",
   "metadata": {},
   "source": [
    "Logistic Regression with PCA \n",
    "\n",
    "private - 0.661, public - 0.694"
   ]
  },
  {
   "cell_type": "code",
   "execution_count": 1,
   "metadata": {},
   "outputs": [],
   "source": [
    "import os\n",
    "import numpy as np\n",
    "import pandas as pd\n",
    "from sklearn.preprocessing import RobustScaler\n",
    "\n",
    "\n",
    "train_url = 'https://raw.githubusercontent.com/lucascheng24/comp4432ML-Dont-over-fit-II/main/train.csv'\n",
    "test_url = 'https://raw.githubusercontent.com/lucascheng24/comp4432ML-Dont-over-fit-II/main/test.csv'"
   ]
  },
  {
   "cell_type": "code",
   "execution_count": null,
   "metadata": {},
   "outputs": [],
   "source": [
    "train = pd.read_csv(train_url)\n",
    "test = pd.read_csv(test_url)\n",
    "\n",
    "targets = train['target']\n",
    "train = train.drop(columns=['id', 'target'])\n",
    "\n",
    "ids = test['id']\n",
    "test = test.drop(columns=['id'])\n",
    "\n",
    "\n",
    "transformer = RobustScaler().fit(train.values)\n",
    "trans_x = transformer.transform(train.values)\n",
    "trans_test = transformer.transform(test.values)"
   ]
  },
  {
   "cell_type": "code",
   "execution_count": null,
   "metadata": {},
   "outputs": [],
   "source": [
    "from sklearn.decomposition import PCA\n",
    "from sklearn.linear_model import LogisticRegression\n",
    "from sklearn.model_selection import GridSearchCV\n",
    "scores = []\n",
    "param_grid = {\"C\": [.01, .1, 1, 10, 100, 1000],\n",
    "                \"penalty\": ('l1','l2')}\n",
    "clf = LogisticRegression(random_state=0, solver='liblinear', class_weight='balanced', max_iter = 1000, penalty='l1')\n",
    "gs = GridSearchCV(clf, param_grid, cv=5)\n",
    "gs.fit(trans_x, targets)\n",
    "\n",
    "best_score = gs.best_score_\n",
    "best_estimator = gs.best_estimator_\n",
    "best_pca = 'N/a'\n",
    "print(best_score)\n",
    "\"\"\"\n",
    "for i in range(10,250, 10):\n",
    "    pca = PCA(n_components=i)\n",
    "    pca.fit(train.values)\n",
    "    \n",
    "    X = pca.transform(trans_x)\n",
    "    transformed_test = pca.transform(test.values)\n",
    "    #Find the best model for these components\n",
    "    param_grid = {\"C\": [.01, .1, 1, 10, 100, 1000],\n",
    "                \"penalty\": ('l1','l2')}\n",
    "    clf = LogisticRegression(random_state=0, solver='liblinear', class_weight='balanced', max_iter = 1000)\n",
    "    gs = GridSearchCV(clf, param_grid, cv=5)\n",
    "    gs.fit(X, targets)\n",
    "    print(\"Best Score for : \", str(i), \" is \", str(gs.best_score_))\n",
    "    scores.append(gs.best_score_)\n",
    "    if gs.best_score_ > best_score:\n",
    "        best_score = gs.best_score_\n",
    "        best_estimator = gs.best_estimator_\n",
    "        best_pca = i\n",
    "print(\"Best score was : \", str(best_score), \" with estimator \", str(best_estimator), ' \\n and PCA : ', str(best_pca))\n",
    "\"\"\"\n",
    "pca = PCA(n_components=2)\n",
    "pca.fit(train.values)\n",
    "vals_2d = pca.transform(train.values)\n",
    "import matplotlib.pyplot as plt\n",
    "colors = ['red' if t == 1 else 'blue' for t in targets]\n",
    "for i in range(len(vals_2d)):\n",
    "    plt.scatter(x=vals_2d[i,0], y=vals_2d[i,1], color=colors[i])"
   ]
  },
  {
   "cell_type": "code",
   "execution_count": null,
   "metadata": {},
   "outputs": [],
   "source": [
    "from sklearn.feature_selection import RFECV\n",
    "from sklearn.model_selection import cross_validate\n",
    "selector = RFECV(best_estimator, step=1, cv=5)\n",
    "selector = selector.fit(trans_x, targets)\n",
    "new_trans_x = selector.transform(trans_x)\n",
    "new_trans_test = selector.transform(trans_test)"
   ]
  },
  {
   "cell_type": "code",
   "execution_count": null,
   "metadata": {},
   "outputs": [],
   "source": [
    "param_grid = {\"C\": [.01, .1],\n",
    "                \"penalty\": ('l1','l2')}\n",
    "clf = LogisticRegression(random_state=0, solver='liblinear', class_weight='balanced', max_iter = 1000, penalty='l1')\n",
    "gs = GridSearchCV(clf, param_grid, cv=5)\n",
    "gs.fit(new_trans_x, targets)\n",
    "print(gs.best_estimator_)\n",
    "print(gs.best_score_)\n",
    "print(gs.score(new_trans_x, targets))\n",
    "predictions = gs.predict_proba(new_trans_test)[:,1]"
   ]
  },
  {
   "cell_type": "code",
   "execution_count": null,
   "metadata": {},
   "outputs": [],
   "source": [
    "pred_result_list = [int(round(x)) for x in predictions]\n",
    "\n",
    "pred_result_list"
   ]
  },
  {
   "cell_type": "code",
   "execution_count": null,
   "metadata": {},
   "outputs": [],
   "source": [
    "filePath = '../result_folder/logistic_V8.csv'"
   ]
  },
  {
   "cell_type": "code",
   "execution_count": null,
   "metadata": {},
   "outputs": [],
   "source": [
    "import csv\n",
    "\n",
    "with open(filePath, 'w', newline='') as file:\n",
    "    writer = csv.writer(file)\n",
    "    writer.writerow([\"id\", \"target\"])\n",
    "    for i in range(250, 20000):\n",
    "        writer.writerow([i, pred_result_list[i-250]])\n",
    "    file.close()"
   ]
  }
 ],
 "metadata": {
  "kernelspec": {
   "display_name": "Python 3",
   "language": "python",
   "name": "python3"
  },
  "language_info": {
   "codemirror_mode": {
    "name": "ipython",
    "version": 3
   },
   "file_extension": ".py",
   "mimetype": "text/x-python",
   "name": "python",
   "nbconvert_exporter": "python",
   "pygments_lexer": "ipython3",
   "version": "3.9.5"
  },
  "orig_nbformat": 4
 },
 "nbformat": 4,
 "nbformat_minor": 2
}
