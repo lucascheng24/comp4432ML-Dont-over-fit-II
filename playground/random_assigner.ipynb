{
 "cells": [
  {
   "cell_type": "code",
   "execution_count": 2,
   "metadata": {},
   "outputs": [],
   "source": [
    "import csv\n",
    "import random\n",
    "\n",
    "# aim for checking the ratio of the label\n",
    "# train set, class(1):160 ; class(0): 90\n",
    "# prob.             0.64            0.36 \n",
    "\n",
    "def randomLabeler():\n",
    "    return random.randint(0, 1)\n",
    "\n",
    "# fifty-fifty\n",
    "## result - 0.492\n",
    "\n",
    "# with open('randomResult.csv', 'w', newline='') as file:\n",
    "#     writer = csv.writer(file)\n",
    "#     writer.writerow([\"id\", \"target\"])\n",
    "#     for i in range(250, 20000):\n",
    "#         writer.writerow([i, randomLabeler()])\n",
    "#     file.close()\n",
    "\n",
    "\n",
    "\n",
    "\n",
    "\n",
    "\n",
    "# All 1\n",
    "# result - 0.5\n",
    "with open('AllOne.csv', 'w', newline='') as file:\n",
    "    writer = csv.writer(file)\n",
    "    writer.writerow([\"id\", \"target\"])\n",
    "    for i in range(250, 20000):\n",
    "        writer.writerow([i, 1])\n",
    "    file.close()\n",
    "\n",
    "\n",
    "## conclusion\n",
    "#   Although training set get us 250 = class(1):class(0) = 160:90 = 16:9\n",
    "#   The actual result is 50 50 = ratio in perfectly 1:1\n",
    "#   It is essiental to reduce the bias of the model\n",
    "##\n",
    "\n"
   ]
  }
 ],
 "metadata": {
  "kernelspec": {
   "display_name": "Python 3",
   "language": "python",
   "name": "python3"
  },
  "language_info": {
   "codemirror_mode": {
    "name": "ipython",
    "version": 3
   },
   "file_extension": ".py",
   "mimetype": "text/x-python",
   "name": "python",
   "nbconvert_exporter": "python",
   "pygments_lexer": "ipython3",
   "version": "3.9.5"
  },
  "orig_nbformat": 4
 },
 "nbformat": 4,
 "nbformat_minor": 2
}
