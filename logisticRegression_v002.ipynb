{
 "cells": [
  {
   "attachments": {},
   "cell_type": "markdown",
   "metadata": {},
   "source": [
    "<h1>logistic regression without applying polynomin</h1>\n",
    "# this one should use less RAM than last version(v001)"
   ]
  },
  {
   "cell_type": "code",
   "execution_count": 30,
   "metadata": {},
   "outputs": [],
   "source": [
    "import numpy as np\n",
    "import pandas as pd\n",
    "from sklearn.metrics import f1_score\n",
    "from matplotlib import pyplot as plt\n",
    "from sklearn.model_selection import KFold\n",
    "from sklearn.metrics import accuracy_score\n",
    "from sklearn.linear_model import LogisticRegression\n",
    "from sklearn.preprocessing import PolynomialFeatures\n",
    "\n",
    "\n",
    "# df = pd.read_csv('./train.csv', index_col = True)\n",
    "url = 'https://raw.githubusercontent.com/lucascheng24/comp4432ML-Dont-over-fit-II/main/train.csv'\n",
    "df = pd.read_csv(url, index_col=\"id\")\n",
    "df['target'] = df['target'].astype(int)\n",
    "\n",
    "parameters_dictionary = {}\n",
    "\n",
    "for element in df:\n",
    "    if element != \"target\":\n",
    "        parameters_dictionary.update({element : df[element]})\n",
    "\n",
    "\n",
    "\n",
    "label_dictionary = {'label': df['target']}\n",
    "\n",
    "df_X = pd.DataFrame(data = parameters_dictionary)\n",
    "df_Y = pd.DataFrame(data = label_dictionary)\n",
    "\n",
    "\n",
    "# print(df_Y)\n",
    "\n",
    "# print(df_Y.groupby('label').size())\n",
    "\n"
   ]
  },
  {
   "cell_type": "code",
   "execution_count": 31,
   "metadata": {},
   "outputs": [],
   "source": [
    "# implement logistic regression\n",
    "\n",
    "\n",
    "###\n",
    "#   function: predict_logistic_regression\n",
    "#       @param: input_x => training dataset features\n",
    "#       @param: input_y => training dataset label\n",
    "#       @param: input_z => testing dataset records (features only)\n",
    "#   \n",
    "#   output: array/list of predicted result of input_z\n",
    "###\n",
    "model = LogisticRegression(max_iter=10000)\n",
    "\n",
    "def predict_logistic_regression(input_x, input_y, input_z):\n",
    "    # build the model based on training data\n",
    "    model.fit(input_x, input_y)\n",
    "\n",
    "    # insert testing dataset to get the predicted output\n",
    "    predicted_values = model.predict(input_z)\n",
    "\n",
    "    return predicted_values\n",
    "    \n"
   ]
  },
  {
   "cell_type": "code",
   "execution_count": 32,
   "metadata": {},
   "outputs": [],
   "source": [
    "#  Applying 5-fold-cross-validation\n",
    "k = 5\n",
    "kf = KFold(n_splits = k, random_state = None)\n",
    "\n",
    "\n",
    "# A function to run 5-fold cross validation on polynomial_logistic_regression\n",
    "def kFold_logistic_regression(input_X, input_Y):\n",
    "\n",
    "    validation_f1_score = []\n",
    "\n",
    "    for train_index , validation_index in kf.split(input_X):\n",
    "\n",
    "        # print('Start model fitting, k=', train_index[0], ' - ', train_index[-1], ' ...')\n",
    "\n",
    "        X_train , X_valid = input_X.iloc[train_index,:], input_X.iloc[validation_index,:]\n",
    "        y_train, y_valid = input_Y.iloc[train_index], input_Y.iloc[validation_index]\n",
    "\n",
    "        # print('X_train: ', X_train)\n",
    "\n",
    "        y_train = y_train.to_numpy().ravel()\n",
    "        y_valid = y_valid.to_numpy().ravel()\n",
    "        \n",
    "        pred_testValues = predict_logistic_regression(X_train, y_train, X_valid)\n",
    "\n",
    "        # count the f1 score(true records / predicted records)\n",
    "        valid_f1 = f1_score(y_valid, pred_testValues)\n",
    "        validation_f1_score.append(valid_f1)\n",
    "\n",
    "    return validation_f1_score\n"
   ]
  },
  {
   "cell_type": "code",
   "execution_count": 35,
   "metadata": {},
   "outputs": [
    {
     "name": "stdout",
     "output_type": "stream",
     "text": [
      "[0.8055555555555555, 0.8059701492537314, 0.7868852459016393, 0.71875, 0.7272727272727273]\n"
     ]
    }
   ],
   "source": [
    "testing_f1 = []\n",
    "\n",
    "testing_f1_score = kFold_logistic_regression(df_X, df_Y)\n",
    "testing_f1.append(testing_f1_score)\n",
    "\n",
    "\n",
    "# print('testing set F1 score (poly 2 to 12) under 5-fold-cross-validation: ')\n",
    "for row in testing_f1:\n",
    "    print(row)"
   ]
  },
  {
   "attachments": {},
   "cell_type": "markdown",
   "metadata": {},
   "source": [
    "<h3>Real prediction on testing data</h3>"
   ]
  },
  {
   "cell_type": "code",
   "execution_count": 38,
   "metadata": {},
   "outputs": [
    {
     "name": "stdout",
     "output_type": "stream",
     "text": [
      "           0      1      2      3      4      5      6      7      8      9  \\\n",
      "id                                                                            \n",
      "250    0.500 -1.033 -1.595  0.309 -0.714  0.502  0.535 -0.129 -0.687  1.291   \n",
      "251    0.776  0.914 -0.494  1.347 -0.867  0.480  0.578 -0.313  0.203  1.356   \n",
      "252    1.750  0.509 -0.057  0.835 -0.476  1.428 -0.701 -2.009 -1.378  0.167   \n",
      "253   -0.556 -1.855 -0.682  0.578  1.592  0.512 -1.419  0.722  0.511  0.567   \n",
      "254    0.754 -0.245  1.173 -1.623  0.009  0.370  0.781 -1.763 -1.432 -0.930   \n",
      "...      ...    ...    ...    ...    ...    ...    ...    ...    ...    ...   \n",
      "19995  1.069  0.517 -0.690  0.241  0.913 -0.859  0.093 -0.359 -0.047  0.713   \n",
      "19996 -0.529  0.438  0.672  1.436 -0.720  0.698 -0.350  2.150 -1.241 -0.167   \n",
      "19997 -0.554 -0.936 -1.427  0.027 -0.539  0.994 -1.832 -1.156  0.474  1.483   \n",
      "19998 -0.746  1.205  0.750 -0.236  1.139 -1.727 -0.677 -1.254 -0.099 -0.724   \n",
      "19999  0.736 -0.216 -0.110 -1.404 -0.265 -1.770  0.715  0.469  1.077  0.333   \n",
      "\n",
      "       ...    290    291    292    293    294    295    296    297    298  \\\n",
      "id     ...                                                                  \n",
      "250    ... -0.088 -2.628 -0.845  2.078 -0.277  2.132  0.609 -0.104  0.312   \n",
      "251    ... -0.683 -0.066  0.025  0.606 -0.353 -1.133 -3.138  0.281 -0.625   \n",
      "252    ... -0.094  0.351 -0.607 -0.737 -0.031  0.701  0.976  0.135 -1.327   \n",
      "253    ... -0.336 -0.787  0.255 -0.031 -0.836  0.916  2.411  1.053 -1.601   \n",
      "254    ...  2.184 -1.090  0.216  1.186 -0.143  0.322 -0.068 -0.156 -1.153   \n",
      "...    ...    ...    ...    ...    ...    ...    ...    ...    ...    ...   \n",
      "19995  ...  0.495  1.021  0.126 -0.353 -0.092  0.996 -0.381 -0.748  1.567   \n",
      "19996  ... -0.246 -0.205 -0.368  1.589  0.389 -0.496 -0.940 -1.457 -1.152   \n",
      "19997  ... -0.008 -1.283 -0.574  0.465 -0.663  0.486 -0.375  1.546  0.759   \n",
      "19998  ... -0.228 -0.814  1.008 -0.152 -1.831 -0.980 -1.054  1.319 -0.181   \n",
      "19999  ... -1.201 -1.633  0.448 -0.511 -0.516  1.565  0.318 -0.268  0.133   \n",
      "\n",
      "         299  \n",
      "id            \n",
      "250    0.979  \n",
      "251   -0.761  \n",
      "252    2.463  \n",
      "253   -1.529  \n",
      "254    0.825  \n",
      "...      ...  \n",
      "19995  1.165  \n",
      "19996  0.937  \n",
      "19997  0.519  \n",
      "19998  0.689  \n",
      "19999  0.826  \n",
      "\n",
      "[19750 rows x 300 columns]\n"
     ]
    },
    {
     "name": "stderr",
     "output_type": "stream",
     "text": [
      "c:\\Python39\\lib\\site-packages\\sklearn\\utils\\validation.py:1143: DataConversionWarning: A column-vector y was passed when a 1d array was expected. Please change the shape of y to (n_samples, ), for example using ravel().\n",
      "  y = column_or_1d(y, warn=True)\n"
     ]
    }
   ],
   "source": [
    "import csv\n",
    "\n",
    "\n",
    "url_test = 'https://raw.githubusercontent.com/lucascheng24/comp4432ML-Dont-over-fit-II/main/test.csv'\n",
    "df_test = pd.read_csv(url_test, index_col=\"id\")\n",
    "\n",
    "print(df_test)\n",
    "\n",
    "pred_values = predict_logistic_regression(df_X, df_Y, df_test)\n",
    "\n",
    "\n",
    "\n",
    "with open('./result_folder/logisticV2.csv', 'w', newline='') as file:\n",
    "    writer = csv.writer(file)\n",
    "    writer.writerow([\"id\", \"target\"])\n",
    "    for i in range(250, 20000):\n",
    "        writer.writerow([i, pred_values[i-250]])\n",
    "    file.close()\n"
   ]
  }
 ],
 "metadata": {
  "kernelspec": {
   "display_name": "Python 3",
   "language": "python",
   "name": "python3"
  },
  "language_info": {
   "codemirror_mode": {
    "name": "ipython",
    "version": 3
   },
   "file_extension": ".py",
   "mimetype": "text/x-python",
   "name": "python",
   "nbconvert_exporter": "python",
   "pygments_lexer": "ipython3",
   "version": "3.9.5"
  },
  "orig_nbformat": 4,
  "vscode": {
   "interpreter": {
    "hash": "81794d4967e6c3204c66dcd87b604927b115b27c00565d3d43f05ba2f3a2cb0d"
   }
  }
 },
 "nbformat": 4,
 "nbformat_minor": 2
}
