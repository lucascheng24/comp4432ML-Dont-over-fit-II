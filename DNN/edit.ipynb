{
 "cells": [
  {
   "cell_type": "code",
   "execution_count": 1,
   "metadata": {},
   "outputs": [],
   "source": [
    "import os\n",
    "import os\n",
    "import numpy as np\n",
    "import pandas as pd\n",
    "\n",
    "\n",
    "test = pd.read_csv('../result_folder/MLP_v1.csv')\n"
   ]
  },
  {
   "cell_type": "code",
   "execution_count": 4,
   "metadata": {},
   "outputs": [
    {
     "data": {
      "text/plain": [
       "str"
      ]
     },
     "execution_count": 4,
     "metadata": {},
     "output_type": "execute_result"
    }
   ],
   "source": [
    "type(test['target'][0])"
   ]
  },
  {
   "cell_type": "code",
   "execution_count": 11,
   "metadata": {},
   "outputs": [],
   "source": [
    "# test['target'] = str.removeprefix('[') \n",
    "\n",
    "import csv\n",
    "\n",
    "\n",
    "filePath = '../result_folder/CNN_v101.csv'\n",
    "result = []\n",
    "\n",
    "for str_x in test['target'] :\n",
    "    \n",
    "    re = str_x\n",
    "    re = str.removeprefix(re, '[')\n",
    "    re = str.removesuffix(re, ']')\n",
    "    result.append(re)\n",
    "\n",
    "    # print(str_x)\n",
    "\n",
    "\n",
    "test['target'] = result\n",
    "\n",
    "\n",
    "with open(filePath, 'w', newline='') as file:\n",
    "    writer = csv.writer(file)\n",
    "    writer.writerow([\"id\", \"target\"])\n",
    "    for i in range(250, 20000):\n",
    "        writer.writerow([i, result[i-250]])\n",
    "    file.close()\n"
   ]
  },
  {
   "cell_type": "code",
   "execution_count": 13,
   "metadata": {},
   "outputs": [],
   "source": [
    "# 13.31335526\n",
    "\n",
    "filePath = '../result_folder/CNN_v103.csv'\n",
    "\n",
    "result_pred = []\n",
    "for str_x in test['target'] :\n",
    "    if (float(str_x) > 13.3):\n",
    "        result_pred.append(1)\n",
    "    else:\n",
    "        result_pred.append(0)\n",
    "\n",
    "with open(filePath, 'w', newline='') as file:\n",
    "    writer = csv.writer(file)\n",
    "    writer.writerow([\"id\", \"target\"])\n",
    "    for i in range(250, 20000):\n",
    "        writer.writerow([i, result_pred[i-250]])\n",
    "    file.close()"
   ]
  }
 ],
 "metadata": {
  "kernelspec": {
   "display_name": "Python 3",
   "language": "python",
   "name": "python3"
  },
  "language_info": {
   "codemirror_mode": {
    "name": "ipython",
    "version": 3
   },
   "file_extension": ".py",
   "mimetype": "text/x-python",
   "name": "python",
   "nbconvert_exporter": "python",
   "pygments_lexer": "ipython3",
   "version": "3.9.5"
  },
  "orig_nbformat": 4
 },
 "nbformat": 4,
 "nbformat_minor": 2
}
