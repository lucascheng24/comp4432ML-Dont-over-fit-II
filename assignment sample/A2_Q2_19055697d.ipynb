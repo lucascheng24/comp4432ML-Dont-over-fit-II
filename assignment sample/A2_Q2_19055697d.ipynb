{
 "cells": [
  {
   "cell_type": "markdown",
   "metadata": {},
   "source": [
    "<b>Q2 - initial value and load data</b>\n",
    "<br>\n",
    "It is assumed that problem2data.txt is the same directory of this ipynb file"
   ]
  },
  {
   "cell_type": "code",
   "execution_count": 3,
   "metadata": {},
   "outputs": [],
   "source": [
    "import numpy as np\n",
    "import pandas as pd\n",
    "from sklearn.metrics import f1_score\n",
    "from matplotlib import pyplot as plt\n",
    "from sklearn.model_selection import KFold\n",
    "from sklearn.metrics import accuracy_score\n",
    "from sklearn.linear_model import LogisticRegression\n",
    "from sklearn.preprocessing import PolynomialFeatures\n",
    "\n",
    "# import the data from problem2data.txt, which is assumed to be the same directory\n",
    "data_array = np.loadtxt('./problem2data.txt', dtype='float', delimiter=' ', unpack=True)\n",
    "\n",
    "col1, col2, col3 = np.split(data_array, 3)\n",
    "col3 = np.asarray(col3, dtype = 'int')\n",
    "\n",
    "parameters_dictionary = {'x1': col1[0], 'x2': col2[0]}\n",
    "label_dictionary = {'label': col3[0]}\n",
    "\n",
    "df_X = pd.DataFrame(data = parameters_dictionary)\n",
    "df_Y = pd.DataFrame(data = label_dictionary)"
   ]
  },
  {
   "cell_type": "markdown",
   "metadata": {},
   "source": [
    "<b>Part A</b> -  Build a logistic regression classifier by using a polynomial function of order 1 "
   ]
  },
  {
   "cell_type": "code",
   "execution_count": 5,
   "metadata": {},
   "outputs": [
    {
     "name": "stdout",
     "output_type": "stream",
     "text": [
      "accuracy of each fold - [0.42, 0.51, 0.46, 0.51, 0.44]\n",
      "Avg accuracy : 0.46799999999999997\n",
      " F1 scores on test set: [0.0, 0.5585585585585586, 0.4375, 0.6315789473684211, 0.44]\n",
      " F1 scores on train set: [0.0, 0.6122448979591838, 0.5467625899280575, 0.70863309352518, 0.5125628140703518]\n"
     ]
    }
   ],
   "source": [
    "#  Applying 5-fold-cross-validation\n",
    "k = 5\n",
    "kf = KFold(n_splits = k, random_state = None)\n",
    "model = LogisticRegression()\n",
    "\n",
    "\n",
    "acc_score = []\n",
    "training_f1_score = []\n",
    "testing_f1_score = []\n",
    "\n",
    "for train_index , test_index in kf.split(df_X):\n",
    "    X_train , X_test = df_X.iloc[train_index,:],df_X.iloc[test_index,:]\n",
    "    y_train, y_test = df_Y.iloc[train_index], df_Y.iloc[test_index]\n",
    "\n",
    "    y_train = y_train.to_numpy().ravel()\n",
    "    y_test = y_test.to_numpy().ravel()\n",
    "    \n",
    "    # build the model based on training data\n",
    "    model.fit(X_train,y_train)\n",
    "\n",
    "\n",
    "    # insert testing dataset to get the predicted output\n",
    "    pred_testValues = model.predict(X_test)\n",
    "    pred_trainValues = model.predict(X_train)\n",
    "\n",
    "    # count the f1 score(true records / predicted records)\n",
    "    test_f1 = f1_score(y_test, pred_testValues)\n",
    "    testing_f1_score.append(test_f1)\n",
    "\n",
    "    training_f1 = f1_score(y_train, pred_trainValues)\n",
    "    training_f1_score.append(training_f1)\n",
    "    # print('test_f1: ', test_f1)\n",
    "    \n",
    "    acc = accuracy_score(pred_testValues , y_test)\n",
    "    acc_score.append(acc)\n",
    "    \n",
    "avg_acc_score = sum(acc_score)/k\n",
    "\n",
    "print('accuracy of each fold - {}'.format(acc_score))\n",
    "print('Avg accuracy : {}'.format(avg_acc_score))\n",
    "print(' F1 scores on test set: {}'.format(testing_f1_score))\n",
    "print(' F1 scores on train set: {}'.format(training_f1_score))"
   ]
  },
  {
   "cell_type": "markdown",
   "metadata": {},
   "source": [
    "<b>Part B</b> - build model with polynomials of order 2 to 12."
   ]
  },
  {
   "cell_type": "code",
   "execution_count": 6,
   "metadata": {},
   "outputs": [],
   "source": [
    "#  Applying 5-fold-cross-validation\n",
    "k = 5\n",
    "kf = KFold(n_splits = k, random_state = None)\n",
    "model = LogisticRegression(max_iter=10000)\n",
    "\n",
    "# A function to run 5-fold cross validation on polynomial_logistic_regression\n",
    "def polynomial_logistic_regression(input_X, input_Y, degree_N):\n",
    "\n",
    "    testing_f1_score = []\n",
    "    training_f1_score = []\n",
    "    \n",
    "    \n",
    "    for train_index , test_index in kf.split(df_X):\n",
    "\n",
    "        X_train , X_test = input_X.iloc[train_index,:], input_X.iloc[test_index,:]\n",
    "        y_train, y_test = input_Y.iloc[train_index], input_Y.iloc[test_index]\n",
    "\n",
    "        # print('X_train: ', X_train)\n",
    "\n",
    "        y_train = y_train.to_numpy().ravel()\n",
    "        y_test = y_test.to_numpy().ravel()\n",
    "        \n",
    "        # polynomial function\n",
    "        poly = PolynomialFeatures(degree = degree_N, interaction_only=False, include_bias=False)\n",
    "        X_poly_test = poly.fit_transform(X_test)\n",
    "        X_poly_train = poly.fit_transform(X_train)\n",
    "        \n",
    "        # build the model based on training data with polynomial\n",
    "        model.fit(X_poly_train, y_train)\n",
    "        \n",
    "\n",
    "        # insert testing dataset to get the predicted output\n",
    "        pred_testValues = model.predict(X_poly_test)\n",
    "        pred_trainValues = model.predict(X_poly_train)\n",
    "\n",
    "        # count the f1 score(true records / predicted records)\n",
    "        test_f1 = f1_score(y_test, pred_testValues)\n",
    "        testing_f1_score.append(test_f1)\n",
    "\n",
    "        training_f1 = f1_score(y_train, pred_trainValues)\n",
    "        training_f1_score.append(training_f1)\n",
    "\n",
    "    return testing_f1_score, training_f1_score\n"
   ]
  },
  {
   "cell_type": "code",
   "execution_count": 8,
   "metadata": {},
   "outputs": [
    {
     "name": "stdout",
     "output_type": "stream",
     "text": [
      "testing set F1 score (poly 2 to 12) under 5-fold-cross-validation: \n",
      "[0.8500000000000001, 0.8247422680412372, 0.8247422680412372, 0.7500000000000001, 0.7115384615384615]\n",
      "[0.8571428571428572, 0.8247422680412372, 0.8210526315789473, 0.7422680412371134, 0.6990291262135921]\n",
      "[0.8333333333333334, 0.8247422680412372, 0.8247422680412372, 0.7446808510638298, 0.7102803738317756]\n",
      "[0.8292682926829268, 0.8282828282828283, 0.8080808080808082, 0.7422680412371134, 0.709090909090909]\n",
      "[0.8455284552845529, 0.8, 0.7722772277227722, 0.7474747474747475, 0.7142857142857142]\n",
      "[0.8387096774193549, 0.8, 0.7920792079207921, 0.7422680412371134, 0.6956521739130435]\n",
      "[0.8253968253968255, 0.787878787878788, 0.7619047619047619, 0.7200000000000001, 0.7027027027027027]\n",
      "[0.8253968253968255, 0.787878787878788, 0.7692307692307693, 0.7346938775510203, 0.6902654867256637]\n",
      "[0.8095238095238094, 0.8080808080808081, 0.7572815533980582, 0.6990291262135923, 0.6964285714285714]\n",
      "[0.8031496062992126, 0.8039215686274509, 0.7572815533980582, 0.6862745098039216, 0.7130434782608696]\n",
      "[0.7874015748031497, 0.8039215686274509, 0.7722772277227722, 0.6857142857142857, 0.6964285714285714]\n",
      "\n",
      "training set F1 score (poly 2 to 12) under 5-fold-cross-validation: \n",
      "[0.782608695652174, 0.7922705314009663, 0.7932692307692308, 0.8158508158508159, 0.8272506082725061]\n",
      "[0.781491002570694, 0.8009592326139088, 0.7857142857142858, 0.8130841121495328, 0.8296296296296296]\n",
      "[0.7763496143958868, 0.7971014492753622, 0.7980997624703088, 0.8037825059101654, 0.8305489260143197]\n",
      "[0.7777777777777777, 0.8047058823529412, 0.7990543735224587, 0.8094117647058824, 0.8297362110311751]\n",
      "[0.7969924812030075, 0.8130841121495327, 0.7981220657276995, 0.8213457076566126, 0.8274231678486997]\n",
      "[0.7990074441687345, 0.8065268065268065, 0.8, 0.8200455580865604, 0.8309859154929577]\n",
      "[0.8039215686274509, 0.8137931034482759, 0.8285714285714286, 0.8348623853211008, 0.8341232227488151]\n",
      "[0.8049382716049384, 0.815668202764977, 0.8266033254156768, 0.8390022675736962, 0.8368794326241135]\n",
      "[0.8138957816377171, 0.8167053364269142, 0.8368794326241135, 0.8519362186788154, 0.8463356973995272]\n",
      "[0.8358208955223881, 0.8302752293577982, 0.8285714285714286, 0.8558352402745996, 0.8450704225352113]\n",
      "[0.8374384236453202, 0.8360277136258661, 0.8337236533957846, 0.8623853211009175, 0.850356294536817]\n"
     ]
    }
   ],
   "source": [
    "Npolynomials_testing_f1 = []\n",
    "Npolynomials_training_f1 = []\n",
    "\n",
    "for i in range(2, 13):  # polynomial of order 2 to 12\n",
    "    # print('For polynomials of order', i, ':')\n",
    "    testing_f1_score, training_f1_score = polynomial_logistic_regression(df_X, df_Y, i)\n",
    "\n",
    "    Npolynomials_testing_f1.append(testing_f1_score)\n",
    "    Npolynomials_training_f1.append(training_f1_score)\n",
    "\n",
    "    # # print out the result with 4 decimal place\n",
    "    # np_testing_f1 = np.asarray(testing_f1_score)\n",
    "    # np_training_f1 = np.asarray(training_f1_score)\n",
    "    # print('\\tF1 scores on test set: {}'.format(np.round(np_testing_f1, 4)))\n",
    "    # print('\\tF1 scores on train set: {}\\n'.format(np.round(np_training_f1, 4)))\n",
    "\n",
    "print('testing set F1 score (poly 2 to 12) under 5-fold-cross-validation: ')\n",
    "for row in Npolynomials_testing_f1:\n",
    "    print(row)\n",
    "\n",
    "print('\\ntraining set F1 score (poly 2 to 12) under 5-fold-cross-validation: ')\n",
    "for row in Npolynomials_training_f1:\n",
    "    print(row)\n",
    "\n",
    "# result of polynomials of order 2 to 12\n",
    "# Npolynomials_testing_f1\n",
    "# Npolynomials_training_f1"
   ]
  },
  {
   "cell_type": "markdown",
   "metadata": {},
   "source": [
    "<b>Part C</b>\n",
    "\n",
    "Repeat parts (a-b) 50 times, and estimate the average F1 score for each polynomial order (average\n",
    "across its 5 × 50 runs, both for training and test sets). Generate a plot that shows the F1 scores\n",
    "versus the polynomial order."
   ]
  },
  {
   "cell_type": "code",
   "execution_count": 22,
   "metadata": {},
   "outputs": [
    {
     "name": "stdout",
     "output_type": "stream",
     "text": [
      "\n",
      "final: \n",
      "\taverage_testing_f1_score:\n",
      "\t\t [0.41352750118539594, 0.7922045995241872, 0.7888469848427494, 0.7875558188622825, 0.7833981758749171, 0.7759132289535573, 0.7737418200980607, 0.7595766155766156, 0.7614931493566134, 0.7540687737289679, 0.7527341432779026, 0.7504673269779273]\n",
      "\n",
      "\taverage_training_f1_score:\n",
      "\t\t [0.4760406790965545, 0.8022499763891385, 0.8021756525356102, 0.8011764516132086, 0.8041372018780469, 0.8113935069171104, 0.8116875948815354, 0.823450599806478, 0.8246182999966803, 0.832373174079394, 0.8391146432522852, 0.8449448200467897] \n",
      "\n",
      "\n"
     ]
    },
    {
     "data": {
      "image/png": "[encoded data removed]",
      "text/plain": [
       "<Figure size 640x480 with 1 Axes>"
      ]
     },
     "metadata": {},
     "output_type": "display_data"
    }
   ],
   "source": [
    "# implement code here\n",
    "\n",
    "fifty_testing_f1_score = []\n",
    "fifty_training_f1_score = []\n",
    "\n",
    "for i in range(12):\n",
    "    fifty_testing_f1_score.append([])\n",
    "    fifty_training_f1_score.append([])\n",
    "\n",
    "## repeat 50 times\n",
    "repeat_times = 50\n",
    "for i in range(0, repeat_times):\n",
    "    for j in range(1, 13): # from polynomials of order 1 to 12\n",
    "        testing_f1_score, training_f1_score = polynomial_logistic_regression(df_X, df_Y, j)\n",
    "\n",
    "        testing_f1_score_mean = np.mean(testing_f1_score)\n",
    "        training_f1_score_mean = np.mean(training_f1_score)\n",
    "\n",
    "        # print('testing_f1_score_mean: ', testing_f1_score_mean)\n",
    "        # print('training_f1_score_mean: ', training_f1_score_mean)\n",
    "\n",
    "        fifty_testing_f1_score[j-1].append(testing_f1_score_mean)\n",
    "        fifty_training_f1_score[j-1].append(training_f1_score_mean)\n",
    "\n",
    "        # np.append(fifty_testing_f1_score[j], )\n",
    "        # np.append(fifty_training_f1_score[j], )\n",
    "\n",
    "\n",
    "    # print('For iteration', i+1, ':')\n",
    "    # print('\\tfifty_testing_f1_score:')\n",
    "    # for j in range(len(fifty_testing_f1_score)):\n",
    "    #     print('\\t\\tpoly ', j+1, ':', fifty_testing_f1_score[j])\n",
    "    # print('\\n')\n",
    "\n",
    "    # print('\\tfifty_training_f1_score:')\n",
    "    # for j in range(len(fifty_training_f1_score)):\n",
    "    #     print('\\t\\tpoly ', j+1, ':', fifty_training_f1_score[j])\n",
    "    # print('\\n')\n",
    "\n",
    "\n",
    "\n",
    "# take the mean of 50 times in respect to 12 polynomial_logistic_regression\n",
    "N12_x_axis = []\n",
    "average_testing_f1_score = []\n",
    "average_training_f1_score = []\n",
    "\n",
    "\n",
    "for i in range(1, 13):\n",
    "    N12_x_axis.append(i)\n",
    "    average_testing_f1_score.append(np.mean(fifty_testing_f1_score[i-1]))\n",
    "    average_training_f1_score.append(np.mean(fifty_training_f1_score[i-1]))\n",
    "\n",
    "# print out the average score of testing and training set\n",
    "print('\\nfinal: ')\n",
    "print('\\taverage_testing_f1_score:\\n\\t\\t', average_testing_f1_score)\n",
    "print('\\n\\taverage_training_f1_score:\\n\\t\\t', average_training_f1_score, \"\\n\\n\")\n",
    "\n",
    "\n",
    "plt.scatter(N12_x_axis, average_testing_f1_score, label='test set\\'s average f1 score')\n",
    "plt.scatter(N12_x_axis, average_training_f1_score, label='train set\\'s average f1 score')\n",
    "\n",
    "plt.xlabel('Polynomial Order')\n",
    "plt.ylabel('F1 Score')\n",
    "plt.title('F1 Scores vs. Polynomial Order')\n",
    "plt.legend()\n",
    "\n",
    "plt.show()"
   ]
  },
  {
   "attachments": {},
   "cell_type": "markdown",
   "metadata": {},
   "source": [
    "<b>Part D</b> - Discuss relationship between F1 scores of the model and the polynomial order\n",
    "<br><br>\n",
    "\n",
    "From the above graph, indicates that the logistic regression classifier model performs well under the polynomial order of 2. \n",
    "\n",
    "F1 score is <i>(2×Precision×Recall) / Precision + Recall</i>. In general, the higher the F1 score, more accurately the model predicted.\n",
    "\n",
    "The model with polynomial regression with <b>degree = 1</b> is <b>underfitting</b>. \n",
    "\n",
    "Although the performance of training dataset raise when the polynomial order increases, the performance of test dataset is decreasing. The F1 score gap between testing and training data increase when the polynomial order increases. \n",
    "\n",
    "This result shows that increasing the polynomial orders of the logistic regression model may occur an <b>overfitting</b> problem. Therefore, the trained model is not generalized to unseen data and the accuracy of the predicted results (testing set’s average f1 score) decreases when polynomial order increases. \n",
    "\n",
    "We can see that the testing data with <b>degree 2</b> have highest f1 score under testing dataset and the smallest gap with training data. Therefore it is a good model.\n"
   ]
  }
 ],
 "metadata": {
  "kernelspec": {
   "display_name": "Python 3 (ipykernel)",
   "language": "python",
   "name": "python3"
  },
  "language_info": {
   "codemirror_mode": {
    "name": "ipython",
    "version": 3
   },
   "file_extension": ".py",
   "mimetype": "text/x-python",
   "name": "python",
   "nbconvert_exporter": "python",
   "pygments_lexer": "ipython3",
   "version": "3.9.5"
  },
  "vscode": {
   "interpreter": {
    "hash": "81794d4967e6c3204c66dcd87b604927b115b27c00565d3d43f05ba2f3a2cb0d"
   }
  }
 },
 "nbformat": 4,
 "nbformat_minor": 2
}
